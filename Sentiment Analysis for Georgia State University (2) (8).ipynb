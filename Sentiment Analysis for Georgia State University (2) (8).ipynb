{
 "cells": [
  {
   "cell_type": "markdown",
   "metadata": {},
   "source": [
    "# IMPORTING ALL LIBRARIES"
   ]
  },
  {
   "cell_type": "code",
   "execution_count": 2,
   "metadata": {},
   "outputs": [
    {
     "name": "stderr",
     "output_type": "stream",
     "text": [
      "[nltk_data] Downloading package punkt to C:\\Users\\Ifeanyi\n",
      "[nltk_data]     Uzowuru\\AppData\\Roaming\\nltk_data...\n",
      "[nltk_data]   Package punkt is already up-to-date!\n"
     ]
    },
    {
     "name": "stdout",
     "output_type": "stream",
     "text": [
      "Requirement already satisfied: jupyterthemes in c:\\users\\ifeanyi uzowuru\\anaconda3\\lib\\site-packages (0.20.0)\n",
      "Requirement already satisfied: lesscpy>=0.11.2 in c:\\users\\ifeanyi uzowuru\\anaconda3\\lib\\site-packages (from jupyterthemes) (0.15.0)\n",
      "Requirement already satisfied: matplotlib>=1.4.3 in c:\\users\\ifeanyi uzowuru\\anaconda3\\lib\\site-packages (from jupyterthemes) (3.2.2)\n",
      "Requirement already satisfied: jupyter-core in c:\\users\\ifeanyi uzowuru\\anaconda3\\lib\\site-packages (from jupyterthemes) (4.6.3)\n",
      "Requirement already satisfied: notebook>=5.6.0 in c:\\users\\ifeanyi uzowuru\\anaconda3\\lib\\site-packages (from jupyterthemes) (6.0.3)\n",
      "Requirement already satisfied: ipython>=5.4.1 in c:\\users\\ifeanyi uzowuru\\anaconda3\\lib\\site-packages (from jupyterthemes) (7.16.1)\n",
      "Requirement already satisfied: six in c:\\users\\ifeanyi uzowuru\\anaconda3\\lib\\site-packages (from lesscpy>=0.11.2->jupyterthemes) (1.15.0)\n",
      "Requirement already satisfied: ply in c:\\users\\ifeanyi uzowuru\\anaconda3\\lib\\site-packages (from lesscpy>=0.11.2->jupyterthemes) (3.11)\n",
      "Requirement already satisfied: numpy>=1.11 in c:\\users\\ifeanyi uzowuru\\anaconda3\\lib\\site-packages (from matplotlib>=1.4.3->jupyterthemes) (1.18.5)\n",
      "Requirement already satisfied: kiwisolver>=1.0.1 in c:\\users\\ifeanyi uzowuru\\anaconda3\\lib\\site-packages (from matplotlib>=1.4.3->jupyterthemes) (1.2.0)\n",
      "Requirement already satisfied: python-dateutil>=2.1 in c:\\users\\ifeanyi uzowuru\\anaconda3\\lib\\site-packages (from matplotlib>=1.4.3->jupyterthemes) (2.8.1)\n",
      "Requirement already satisfied: cycler>=0.10 in c:\\users\\ifeanyi uzowuru\\anaconda3\\lib\\site-packages (from matplotlib>=1.4.3->jupyterthemes) (0.10.0)\n",
      "Requirement already satisfied: pyparsing!=2.0.4,!=2.1.2,!=2.1.6,>=2.0.1 in c:\\users\\ifeanyi uzowuru\\anaconda3\\lib\\site-packages (from matplotlib>=1.4.3->jupyterthemes) (2.4.7)\n",
      "Requirement already satisfied: pywin32>=1.0; sys_platform == \"win32\" in c:\\users\\ifeanyi uzowuru\\anaconda3\\lib\\site-packages (from jupyter-core->jupyterthemes) (227)\n",
      "Requirement already satisfied: traitlets in c:\\users\\ifeanyi uzowuru\\anaconda3\\lib\\site-packages (from jupyter-core->jupyterthemes) (4.3.3)\n",
      "Requirement already satisfied: jinja2 in c:\\users\\ifeanyi uzowuru\\anaconda3\\lib\\site-packages (from notebook>=5.6.0->jupyterthemes) (2.11.2)\n",
      "Requirement already satisfied: Send2Trash in c:\\users\\ifeanyi uzowuru\\anaconda3\\lib\\site-packages (from notebook>=5.6.0->jupyterthemes) (1.5.0)\n",
      "Requirement already satisfied: terminado>=0.8.1 in c:\\users\\ifeanyi uzowuru\\anaconda3\\lib\\site-packages (from notebook>=5.6.0->jupyterthemes) (0.8.3)\n",
      "Requirement already satisfied: nbformat in c:\\users\\ifeanyi uzowuru\\anaconda3\\lib\\site-packages (from notebook>=5.6.0->jupyterthemes) (5.0.7)\n",
      "Requirement already satisfied: tornado>=5.0 in c:\\users\\ifeanyi uzowuru\\anaconda3\\lib\\site-packages (from notebook>=5.6.0->jupyterthemes) (6.0.4)\n",
      "Requirement already satisfied: jupyter-client>=5.3.4 in c:\\users\\ifeanyi uzowuru\\anaconda3\\lib\\site-packages (from notebook>=5.6.0->jupyterthemes) (6.1.6)\n",
      "Requirement already satisfied: nbconvert in c:\\users\\ifeanyi uzowuru\\anaconda3\\lib\\site-packages (from notebook>=5.6.0->jupyterthemes) (5.6.1)\n",
      "Requirement already satisfied: ipython-genutils in c:\\users\\ifeanyi uzowuru\\anaconda3\\lib\\site-packages (from notebook>=5.6.0->jupyterthemes) (0.2.0)\n",
      "Requirement already satisfied: pyzmq>=17 in c:\\users\\ifeanyi uzowuru\\anaconda3\\lib\\site-packages (from notebook>=5.6.0->jupyterthemes) (19.0.1)\n",
      "Requirement already satisfied: ipykernel in c:\\users\\ifeanyi uzowuru\\anaconda3\\lib\\site-packages (from notebook>=5.6.0->jupyterthemes) (5.3.2)\n",
      "Requirement already satisfied: prometheus-client in c:\\users\\ifeanyi uzowuru\\anaconda3\\lib\\site-packages (from notebook>=5.6.0->jupyterthemes) (0.8.0)\n",
      "Requirement already satisfied: jedi>=0.10 in c:\\users\\ifeanyi uzowuru\\anaconda3\\lib\\site-packages (from ipython>=5.4.1->jupyterthemes) (0.17.1)\n",
      "Requirement already satisfied: backcall in c:\\users\\ifeanyi uzowuru\\anaconda3\\lib\\site-packages (from ipython>=5.4.1->jupyterthemes) (0.2.0)\n",
      "Requirement already satisfied: setuptools>=18.5 in c:\\users\\ifeanyi uzowuru\\anaconda3\\lib\\site-packages (from ipython>=5.4.1->jupyterthemes) (49.2.0.post20200714)\n",
      "Requirement already satisfied: colorama; sys_platform == \"win32\" in c:\\users\\ifeanyi uzowuru\\anaconda3\\lib\\site-packages (from ipython>=5.4.1->jupyterthemes) (0.4.3)\n",
      "Requirement already satisfied: prompt-toolkit!=3.0.0,!=3.0.1,<3.1.0,>=2.0.0 in c:\\users\\ifeanyi uzowuru\\anaconda3\\lib\\site-packages (from ipython>=5.4.1->jupyterthemes) (3.0.5)\n",
      "Requirement already satisfied: pygments in c:\\users\\ifeanyi uzowuru\\anaconda3\\lib\\site-packages (from ipython>=5.4.1->jupyterthemes) (2.6.1)\n",
      "Requirement already satisfied: decorator in c:\\users\\ifeanyi uzowuru\\anaconda3\\lib\\site-packages (from ipython>=5.4.1->jupyterthemes) (4.4.2)\n",
      "Requirement already satisfied: pickleshare in c:\\users\\ifeanyi uzowuru\\anaconda3\\lib\\site-packages (from ipython>=5.4.1->jupyterthemes) (0.7.5)\n",
      "Requirement already satisfied: MarkupSafe>=0.23 in c:\\users\\ifeanyi uzowuru\\anaconda3\\lib\\site-packages (from jinja2->notebook>=5.6.0->jupyterthemes) (1.1.1)\n",
      "Requirement already satisfied: jsonschema!=2.5.0,>=2.4 in c:\\users\\ifeanyi uzowuru\\anaconda3\\lib\\site-packages (from nbformat->notebook>=5.6.0->jupyterthemes) (3.2.0)\n",
      "Requirement already satisfied: pandocfilters>=1.4.1 in c:\\users\\ifeanyi uzowuru\\anaconda3\\lib\\site-packages (from nbconvert->notebook>=5.6.0->jupyterthemes) (1.4.2)\n",
      "Requirement already satisfied: bleach in c:\\users\\ifeanyi uzowuru\\anaconda3\\lib\\site-packages (from nbconvert->notebook>=5.6.0->jupyterthemes) (3.1.5)\n",
      "Requirement already satisfied: testpath in c:\\users\\ifeanyi uzowuru\\anaconda3\\lib\\site-packages (from nbconvert->notebook>=5.6.0->jupyterthemes) (0.4.4)\n",
      "Requirement already satisfied: mistune<2,>=0.8.1 in c:\\users\\ifeanyi uzowuru\\anaconda3\\lib\\site-packages (from nbconvert->notebook>=5.6.0->jupyterthemes) (0.8.4)\n",
      "Requirement already satisfied: entrypoints>=0.2.2 in c:\\users\\ifeanyi uzowuru\\anaconda3\\lib\\site-packages (from nbconvert->notebook>=5.6.0->jupyterthemes) (0.3)\n",
      "Requirement already satisfied: defusedxml in c:\\users\\ifeanyi uzowuru\\anaconda3\\lib\\site-packages (from nbconvert->notebook>=5.6.0->jupyterthemes) (0.6.0)\n",
      "Requirement already satisfied: parso<0.8.0,>=0.7.0 in c:\\users\\ifeanyi uzowuru\\anaconda3\\lib\\site-packages (from jedi>=0.10->ipython>=5.4.1->jupyterthemes) (0.7.0)\n",
      "Requirement already satisfied: wcwidth in c:\\users\\ifeanyi uzowuru\\anaconda3\\lib\\site-packages (from prompt-toolkit!=3.0.0,!=3.0.1,<3.1.0,>=2.0.0->ipython>=5.4.1->jupyterthemes) (0.2.5)\n",
      "Requirement already satisfied: attrs>=17.4.0 in c:\\users\\ifeanyi uzowuru\\anaconda3\\lib\\site-packages (from jsonschema!=2.5.0,>=2.4->nbformat->notebook>=5.6.0->jupyterthemes) (19.3.0)\n",
      "Requirement already satisfied: pyrsistent>=0.14.0 in c:\\users\\ifeanyi uzowuru\\anaconda3\\lib\\site-packages (from jsonschema!=2.5.0,>=2.4->nbformat->notebook>=5.6.0->jupyterthemes) (0.16.0)\n",
      "Requirement already satisfied: packaging in c:\\users\\ifeanyi uzowuru\\anaconda3\\lib\\site-packages (from bleach->nbconvert->notebook>=5.6.0->jupyterthemes) (20.4)\n",
      "Requirement already satisfied: webencodings in c:\\users\\ifeanyi uzowuru\\anaconda3\\lib\\site-packages (from bleach->nbconvert->notebook>=5.6.0->jupyterthemes) (0.5.1)\n",
      "Requirement already satisfied: jupyterthemes in c:\\users\\ifeanyi uzowuru\\anaconda3\\lib\\site-packages (0.20.0)\n",
      "Requirement already satisfied: matplotlib>=1.4.3 in c:\\users\\ifeanyi uzowuru\\anaconda3\\lib\\site-packages (from jupyterthemes) (3.2.2)\n",
      "Requirement already satisfied: lesscpy>=0.11.2 in c:\\users\\ifeanyi uzowuru\\anaconda3\\lib\\site-packages (from jupyterthemes) (0.15.0)\n",
      "Requirement already satisfied: notebook>=5.6.0 in c:\\users\\ifeanyi uzowuru\\anaconda3\\lib\\site-packages (from jupyterthemes) (6.0.3)\n",
      "Requirement already satisfied: ipython>=5.4.1 in c:\\users\\ifeanyi uzowuru\\anaconda3\\lib\\site-packages (from jupyterthemes) (7.16.1)\n",
      "Requirement already satisfied: jupyter-core in c:\\users\\ifeanyi uzowuru\\anaconda3\\lib\\site-packages (from jupyterthemes) (4.6.3)\n",
      "Requirement already satisfied: cycler>=0.10 in c:\\users\\ifeanyi uzowuru\\anaconda3\\lib\\site-packages (from matplotlib>=1.4.3->jupyterthemes) (0.10.0)\n",
      "Requirement already satisfied: kiwisolver>=1.0.1 in c:\\users\\ifeanyi uzowuru\\anaconda3\\lib\\site-packages (from matplotlib>=1.4.3->jupyterthemes) (1.2.0)\n",
      "Requirement already satisfied: python-dateutil>=2.1 in c:\\users\\ifeanyi uzowuru\\anaconda3\\lib\\site-packages (from matplotlib>=1.4.3->jupyterthemes) (2.8.1)\n",
      "Requirement already satisfied: pyparsing!=2.0.4,!=2.1.2,!=2.1.6,>=2.0.1 in c:\\users\\ifeanyi uzowuru\\anaconda3\\lib\\site-packages (from matplotlib>=1.4.3->jupyterthemes) (2.4.7)\n",
      "Requirement already satisfied: numpy>=1.11 in c:\\users\\ifeanyi uzowuru\\anaconda3\\lib\\site-packages (from matplotlib>=1.4.3->jupyterthemes) (1.18.5)\n",
      "Requirement already satisfied: six in c:\\users\\ifeanyi uzowuru\\anaconda3\\lib\\site-packages (from lesscpy>=0.11.2->jupyterthemes) (1.15.0)\n",
      "Requirement already satisfied: ply in c:\\users\\ifeanyi uzowuru\\anaconda3\\lib\\site-packages (from lesscpy>=0.11.2->jupyterthemes) (3.11)\n",
      "Requirement already satisfied: prometheus-client in c:\\users\\ifeanyi uzowuru\\anaconda3\\lib\\site-packages (from notebook>=5.6.0->jupyterthemes) (0.8.0)\n",
      "Requirement already satisfied: jupyter-client>=5.3.4 in c:\\users\\ifeanyi uzowuru\\anaconda3\\lib\\site-packages (from notebook>=5.6.0->jupyterthemes) (6.1.6)\n",
      "Requirement already satisfied: traitlets>=4.2.1 in c:\\users\\ifeanyi uzowuru\\anaconda3\\lib\\site-packages (from notebook>=5.6.0->jupyterthemes) (4.3.3)\n",
      "Requirement already satisfied: nbformat in c:\\users\\ifeanyi uzowuru\\anaconda3\\lib\\site-packages (from notebook>=5.6.0->jupyterthemes) (5.0.7)\n",
      "Requirement already satisfied: pyzmq>=17 in c:\\users\\ifeanyi uzowuru\\anaconda3\\lib\\site-packages (from notebook>=5.6.0->jupyterthemes) (19.0.1)\n",
      "Requirement already satisfied: Send2Trash in c:\\users\\ifeanyi uzowuru\\anaconda3\\lib\\site-packages (from notebook>=5.6.0->jupyterthemes) (1.5.0)\n",
      "Requirement already satisfied: nbconvert in c:\\users\\ifeanyi uzowuru\\anaconda3\\lib\\site-packages (from notebook>=5.6.0->jupyterthemes) (5.6.1)\n",
      "Requirement already satisfied: ipykernel in c:\\users\\ifeanyi uzowuru\\anaconda3\\lib\\site-packages (from notebook>=5.6.0->jupyterthemes) (5.3.2)\n",
      "Requirement already satisfied: ipython-genutils in c:\\users\\ifeanyi uzowuru\\anaconda3\\lib\\site-packages (from notebook>=5.6.0->jupyterthemes) (0.2.0)\n",
      "Requirement already satisfied: terminado>=0.8.1 in c:\\users\\ifeanyi uzowuru\\anaconda3\\lib\\site-packages (from notebook>=5.6.0->jupyterthemes) (0.8.3)\n",
      "Requirement already satisfied: jinja2 in c:\\users\\ifeanyi uzowuru\\anaconda3\\lib\\site-packages (from notebook>=5.6.0->jupyterthemes) (2.11.2)\n",
      "Requirement already satisfied: tornado>=5.0 in c:\\users\\ifeanyi uzowuru\\anaconda3\\lib\\site-packages (from notebook>=5.6.0->jupyterthemes) (6.0.4)\n",
      "Requirement already satisfied: decorator in c:\\users\\ifeanyi uzowuru\\anaconda3\\lib\\site-packages (from ipython>=5.4.1->jupyterthemes) (4.4.2)\n",
      "Requirement already satisfied: prompt-toolkit!=3.0.0,!=3.0.1,<3.1.0,>=2.0.0 in c:\\users\\ifeanyi uzowuru\\anaconda3\\lib\\site-packages (from ipython>=5.4.1->jupyterthemes) (3.0.5)\n",
      "Requirement already satisfied: jedi>=0.10 in c:\\users\\ifeanyi uzowuru\\anaconda3\\lib\\site-packages (from ipython>=5.4.1->jupyterthemes) (0.17.1)\n",
      "Requirement already satisfied: backcall in c:\\users\\ifeanyi uzowuru\\anaconda3\\lib\\site-packages (from ipython>=5.4.1->jupyterthemes) (0.2.0)\n",
      "Requirement already satisfied: pygments in c:\\users\\ifeanyi uzowuru\\anaconda3\\lib\\site-packages (from ipython>=5.4.1->jupyterthemes) (2.6.1)\n",
      "Requirement already satisfied: pickleshare in c:\\users\\ifeanyi uzowuru\\anaconda3\\lib\\site-packages (from ipython>=5.4.1->jupyterthemes) (0.7.5)\n",
      "Requirement already satisfied: setuptools>=18.5 in c:\\users\\ifeanyi uzowuru\\anaconda3\\lib\\site-packages (from ipython>=5.4.1->jupyterthemes) (49.2.0.post20200714)\n",
      "Requirement already satisfied: colorama; sys_platform == \"win32\" in c:\\users\\ifeanyi uzowuru\\anaconda3\\lib\\site-packages (from ipython>=5.4.1->jupyterthemes) (0.4.3)\n",
      "Requirement already satisfied: pywin32>=1.0; sys_platform == \"win32\" in c:\\users\\ifeanyi uzowuru\\anaconda3\\lib\\site-packages (from jupyter-core->jupyterthemes) (227)\n",
      "Requirement already satisfied: jsonschema!=2.5.0,>=2.4 in c:\\users\\ifeanyi uzowuru\\anaconda3\\lib\\site-packages (from nbformat->notebook>=5.6.0->jupyterthemes) (3.2.0)\n",
      "Requirement already satisfied: entrypoints>=0.2.2 in c:\\users\\ifeanyi uzowuru\\anaconda3\\lib\\site-packages (from nbconvert->notebook>=5.6.0->jupyterthemes) (0.3)\n",
      "Requirement already satisfied: pandocfilters>=1.4.1 in c:\\users\\ifeanyi uzowuru\\anaconda3\\lib\\site-packages (from nbconvert->notebook>=5.6.0->jupyterthemes) (1.4.2)\n",
      "Requirement already satisfied: defusedxml in c:\\users\\ifeanyi uzowuru\\anaconda3\\lib\\site-packages (from nbconvert->notebook>=5.6.0->jupyterthemes) (0.6.0)\n",
      "Requirement already satisfied: bleach in c:\\users\\ifeanyi uzowuru\\anaconda3\\lib\\site-packages (from nbconvert->notebook>=5.6.0->jupyterthemes) (3.1.5)\n",
      "Requirement already satisfied: testpath in c:\\users\\ifeanyi uzowuru\\anaconda3\\lib\\site-packages (from nbconvert->notebook>=5.6.0->jupyterthemes) (0.4.4)\n",
      "Requirement already satisfied: mistune<2,>=0.8.1 in c:\\users\\ifeanyi uzowuru\\anaconda3\\lib\\site-packages (from nbconvert->notebook>=5.6.0->jupyterthemes) (0.8.4)\n",
      "Requirement already satisfied: MarkupSafe>=0.23 in c:\\users\\ifeanyi uzowuru\\anaconda3\\lib\\site-packages (from jinja2->notebook>=5.6.0->jupyterthemes) (1.1.1)\n",
      "Requirement already satisfied: wcwidth in c:\\users\\ifeanyi uzowuru\\anaconda3\\lib\\site-packages (from prompt-toolkit!=3.0.0,!=3.0.1,<3.1.0,>=2.0.0->ipython>=5.4.1->jupyterthemes) (0.2.5)\n",
      "Requirement already satisfied: parso<0.8.0,>=0.7.0 in c:\\users\\ifeanyi uzowuru\\anaconda3\\lib\\site-packages (from jedi>=0.10->ipython>=5.4.1->jupyterthemes) (0.7.0)\n",
      "Requirement already satisfied: attrs>=17.4.0 in c:\\users\\ifeanyi uzowuru\\anaconda3\\lib\\site-packages (from jsonschema!=2.5.0,>=2.4->nbformat->notebook>=5.6.0->jupyterthemes) (19.3.0)\n",
      "Requirement already satisfied: pyrsistent>=0.14.0 in c:\\users\\ifeanyi uzowuru\\anaconda3\\lib\\site-packages (from jsonschema!=2.5.0,>=2.4->nbformat->notebook>=5.6.0->jupyterthemes) (0.16.0)\n",
      "Requirement already satisfied: packaging in c:\\users\\ifeanyi uzowuru\\anaconda3\\lib\\site-packages (from bleach->nbconvert->notebook>=5.6.0->jupyterthemes) (20.4)\n",
      "Requirement already satisfied: webencodings in c:\\users\\ifeanyi uzowuru\\anaconda3\\lib\\site-packages (from bleach->nbconvert->notebook>=5.6.0->jupyterthemes) (0.5.1)\n"
     ]
    },
    {
     "name": "stderr",
     "output_type": "stream",
     "text": [
      "[nltk_data] Downloading package punkt to C:\\Users\\Ifeanyi\n",
      "[nltk_data]     Uzowuru\\AppData\\Roaming\\nltk_data...\n",
      "[nltk_data]   Package punkt is already up-to-date!\n",
      "[nltk_data] Downloading package wordnet to C:\\Users\\Ifeanyi\n",
      "[nltk_data]     Uzowuru\\AppData\\Roaming\\nltk_data...\n",
      "[nltk_data]   Package wordnet is already up-to-date!\n",
      "[nltk_data] Downloading package punkt to C:\\Users\\Ifeanyi\n",
      "[nltk_data]     Uzowuru\\AppData\\Roaming\\nltk_data...\n",
      "[nltk_data]   Package punkt is already up-to-date!\n",
      "[nltk_data] Downloading package wordnet to C:\\Users\\Ifeanyi\n",
      "[nltk_data]     Uzowuru\\AppData\\Roaming\\nltk_data...\n",
      "[nltk_data]   Package wordnet is already up-to-date!\n"
     ]
    },
    {
     "name": "stdout",
     "output_type": "stream",
     "text": [
      "Requirement already satisfied: textaugment in c:\\users\\ifeanyi uzowuru\\anaconda3\\lib\\site-packages (1.3.4)\n",
      "Requirement already satisfied: nltk in c:\\users\\ifeanyi uzowuru\\anaconda3\\lib\\site-packages (from textaugment) (3.5)\n",
      "Requirement already satisfied: gensim in c:\\users\\ifeanyi uzowuru\\anaconda3\\lib\\site-packages (from textaugment) (4.1.2)\n",
      "Requirement already satisfied: textblob in c:\\users\\ifeanyi uzowuru\\anaconda3\\lib\\site-packages (from textaugment) (0.17.1)\n",
      "Requirement already satisfied: numpy in c:\\users\\ifeanyi uzowuru\\anaconda3\\lib\\site-packages (from textaugment) (1.18.5)\n",
      "Requirement already satisfied: googletrans in c:\\users\\ifeanyi uzowuru\\anaconda3\\lib\\site-packages (from textaugment) (3.0.0)\n",
      "Requirement already satisfied: tqdm in c:\\users\\ifeanyi uzowuru\\anaconda3\\lib\\site-packages (from nltk->textaugment) (4.47.0)\n",
      "Requirement already satisfied: click in c:\\users\\ifeanyi uzowuru\\anaconda3\\lib\\site-packages (from nltk->textaugment) (7.1.2)\n",
      "Requirement already satisfied: joblib in c:\\users\\ifeanyi uzowuru\\anaconda3\\lib\\site-packages (from nltk->textaugment) (0.16.0)\n",
      "Requirement already satisfied: regex in c:\\users\\ifeanyi uzowuru\\anaconda3\\lib\\site-packages (from nltk->textaugment) (2020.6.8)\n",
      "Requirement already satisfied: Cython==0.29.23 in c:\\users\\ifeanyi uzowuru\\anaconda3\\lib\\site-packages (from gensim->textaugment) (0.29.23)\n",
      "Requirement already satisfied: scipy>=0.18.1 in c:\\users\\ifeanyi uzowuru\\anaconda3\\lib\\site-packages (from gensim->textaugment) (1.5.0)\n",
      "Requirement already satisfied: smart-open>=1.8.1 in c:\\users\\ifeanyi uzowuru\\anaconda3\\lib\\site-packages (from gensim->textaugment) (5.2.1)\n",
      "Requirement already satisfied: httpx==0.13.3 in c:\\users\\ifeanyi uzowuru\\anaconda3\\lib\\site-packages (from googletrans->textaugment) (0.13.3)\n",
      "Requirement already satisfied: httpcore==0.9.* in c:\\users\\ifeanyi uzowuru\\anaconda3\\lib\\site-packages (from httpx==0.13.3->googletrans->textaugment) (0.9.1)\n",
      "Requirement already satisfied: idna==2.* in c:\\users\\ifeanyi uzowuru\\anaconda3\\lib\\site-packages (from httpx==0.13.3->googletrans->textaugment) (2.10)\n",
      "Requirement already satisfied: chardet==3.* in c:\\users\\ifeanyi uzowuru\\anaconda3\\lib\\site-packages (from httpx==0.13.3->googletrans->textaugment) (3.0.4)\n",
      "Requirement already satisfied: sniffio in c:\\users\\ifeanyi uzowuru\\anaconda3\\lib\\site-packages (from httpx==0.13.3->googletrans->textaugment) (1.2.0)\n",
      "Requirement already satisfied: certifi in c:\\users\\ifeanyi uzowuru\\anaconda3\\lib\\site-packages (from httpx==0.13.3->googletrans->textaugment) (2020.6.20)\n",
      "Requirement already satisfied: rfc3986<2,>=1.3 in c:\\users\\ifeanyi uzowuru\\anaconda3\\lib\\site-packages (from httpx==0.13.3->googletrans->textaugment) (1.5.0)\n",
      "Requirement already satisfied: hstspreload in c:\\users\\ifeanyi uzowuru\\anaconda3\\lib\\site-packages (from httpx==0.13.3->googletrans->textaugment) (2021.11.1)\n",
      "Requirement already satisfied: h11<0.10,>=0.8 in c:\\users\\ifeanyi uzowuru\\anaconda3\\lib\\site-packages (from httpcore==0.9.*->httpx==0.13.3->googletrans->textaugment) (0.9.0)\n",
      "Requirement already satisfied: h2==3.* in c:\\users\\ifeanyi uzowuru\\anaconda3\\lib\\site-packages (from httpcore==0.9.*->httpx==0.13.3->googletrans->textaugment) (3.2.0)\n",
      "Requirement already satisfied: hpack<4,>=3.0 in c:\\users\\ifeanyi uzowuru\\anaconda3\\lib\\site-packages (from h2==3.*->httpcore==0.9.*->httpx==0.13.3->googletrans->textaugment) (3.0.0)\n",
      "Requirement already satisfied: hyperframe<6,>=5.2.0 in c:\\users\\ifeanyi uzowuru\\anaconda3\\lib\\site-packages (from h2==3.*->httpcore==0.9.*->httpx==0.13.3->googletrans->textaugment) (5.2.0)\n"
     ]
    },
    {
     "name": "stderr",
     "output_type": "stream",
     "text": [
      "[nltk_data] Downloading package averaged_perceptron_tagger to\n",
      "[nltk_data]     C:\\Users\\Ifeanyi Uzowuru\\AppData\\Roaming\\nltk_data...\n",
      "[nltk_data]   Package averaged_perceptron_tagger is already up-to-\n",
      "[nltk_data]       date!\n",
      "[nltk_data] Downloading package stopwords to C:\\Users\\Ifeanyi\n",
      "[nltk_data]     Uzowuru\\AppData\\Roaming\\nltk_data...\n",
      "[nltk_data]   Package stopwords is already up-to-date!\n"
     ]
    }
   ],
   "source": [
    "#Importing all necessary libraries\n",
    "import tweepy\n",
    "from datetime import date\n",
    "import datetime\n",
    "import GetOldTweets3 as got\n",
    "import pandas as pd\n",
    "from textblob import TextBlob\n",
    "from wordcloud import WordCloud\n",
    "import numpy as np\n",
    "import re\n",
    "import matplotlib.pyplot as plt\n",
    "plt.style.use('fivethirtyeight')\n",
    "import nltk\n",
    "#nltk.download('stopwords')\n",
    "#!pip install symspellpy\n",
    "#!pip install spacy\n",
    "from symspellpy.symspellpy import SymSpell, Verbosity\n",
    "import pkg_resources\n",
    "import re, string, json\n",
    "import spacy\n",
    "from tqdm.notebook import tqdm\n",
    "import nltk\n",
    "nltk.download('punkt')\n",
    "!pip install jupyterthemes\n",
    "from jupyterthemes import jtplot\n",
    "jtplot.style(theme = 'monokai', context = 'notebook', ticks = True, grid= False)\n",
    "import seaborn as sns\n",
    "!pip install jupyterthemes\n",
    "nltk.download('punkt')\n",
    "nltk.download('wordnet')\n",
    "from textaugment import Wordnet, Translate\n",
    "import nltk\n",
    "nltk.download('punkt')\n",
    "nltk.download('wordnet')\n",
    "!pip install textaugment\n",
    "from textaugment import Wordnet, Translate\n",
    "nltk.download('averaged_perceptron_tagger')\n",
    "import re\n",
    "import nltk\n",
    "nltk.download('stopwords')\n",
    "from nltk.corpus import stopwords\n",
    "from nltk.stem.porter import PorterStemmer\n",
    "ps = PorterStemmer()\n",
    "all_stopwords = stopwords.words('english')\n",
    "all_stopwords.remove('not')\n"
   ]
  },
  {
   "cell_type": "markdown",
   "metadata": {},
   "source": [
    "# IMPORTING TWEETS WITH SEARCH TERMS    \n",
    "# 'GSU','GEORGIA STATE UNIVERSITY'"
   ]
  },
  {
   "cell_type": "code",
   "execution_count": 3,
   "metadata": {},
   "outputs": [],
   "source": [
    "#SCRAPING DATA FROM TWITTER API USING IDENTITY KEYS\n",
    "\n",
    "consumer_key = \"8GVwuToomfazOQ2PcoTMOYbqx\"\n",
    "consumer_secret = \"mPkj0I8sEJPSUqGJ2olIEaiY7euaq78CSe8MdSX8s3PQpadQHt\"\n",
    "access_token = \"391841745-rqW5hq4CiBLh3oobBSBH1gOgfY0Ntm96w5U40In5\"\n",
    "access_token_secret = \"RAfphJJkutjeIgfkkjhFUbx0brrZd2Fhh5idtGT2TMpDw\"\n",
    "auth = tweepy.OAuthHandler(consumer_key, consumer_secret)\n",
    "auth.set_access_token(access_token, access_token_secret)\n",
    "api = tweepy.API(auth,wait_on_rate_limit=True)\n",
    "\n",
    "\n",
    "# Function created to extract coordinates from tweet if it has coordinate info\n",
    "# Tweets tend to have null so important to run check\n",
    "# Make sure to run this cell as it is used in a lot of different functions below\n",
    "def extract_coordinates(row):\n",
    "    if row['Tweet Coordinates']:\n",
    "        return row['Tweet Coordinates']['coordinates']\n",
    "    else:\n",
    "        return None\n",
    "# Function created to extract place such as city, state or country from tweet if it has place info\n",
    "# Tweets tend to have null so important to run check\n",
    "# Make sure to run this cell as it is used in a lot of different functions below\n",
    "def extract_place(row):\n",
    "    if row['Place Info']:\n",
    "        return row['Place Info'].full_name\n",
    "    else:\n",
    "        return None"
   ]
  },
  {
   "cell_type": "code",
   "execution_count": 5,
   "metadata": {},
   "outputs": [],
   "source": [
    "#SEARCHING WITH 'GSU' AND EXPORTING TWEETS TO MY DOWNLOADS\n",
    "text_query = '#GSU'\n",
    "count = 100\n",
    " \n",
    "# Creation of query method using parameters\n",
    "tweets = tweepy.Cursor(api.search_tweets,q=text_query).items(count)\n",
    " \n",
    "# Pulling information from tweets iterable object\n",
    "# Add or remove tweet information you want in the below list comprehension\n",
    "tweets_list = [[tweet.text, tweet.created_at, tweet.user.name, tweet.user.location, tweet.user.url, tweet.user.description, tweet.user.statuses_count, tweet.user.profile_image_url_https] for tweet in tweets]\n",
    "#tweets_list = [[tweet.full_text, tweet.created_at, tweet.id_str, tweet.user.screen_name, tweet.coordinates, tweet.place, tweet.retweet_count, tweet.favorite_count, tweet.lang, tweet.source, tweet.in_reply_to_status_id_str, tweet.in_reply_to_user_id_str, tweet.is_quote_status] for tweet in tweets] \n",
    "# Creation of dataframe from tweets_list\n",
    "# Did not include column names to simplify code \n",
    "data = pd.DataFrame(tweets_list)\n",
    "data.columns=['Tweet_Text','Tweet_Date','User_name','Location','Link_to_tweet','tweet_description','count_seen','link_prof_image']\n",
    "data.to_csv('C:/Users/Ifeanyi Uzowuru/Downloads/sentiment111.csv')\n"
   ]
  },
  {
   "cell_type": "code",
   "execution_count": 7,
   "metadata": {},
   "outputs": [
    {
     "data": {
      "text/html": [
       "<div>\n",
       "<style scoped>\n",
       "    .dataframe tbody tr th:only-of-type {\n",
       "        vertical-align: middle;\n",
       "    }\n",
       "\n",
       "    .dataframe tbody tr th {\n",
       "        vertical-align: top;\n",
       "    }\n",
       "\n",
       "    .dataframe thead th {\n",
       "        text-align: right;\n",
       "    }\n",
       "</style>\n",
       "<table border=\"1\" class=\"dataframe\">\n",
       "  <thead>\n",
       "    <tr style=\"text-align: right;\">\n",
       "      <th></th>\n",
       "      <th>Tweet_Text</th>\n",
       "      <th>Tweet_Date</th>\n",
       "      <th>User_name</th>\n",
       "      <th>Location</th>\n",
       "      <th>Link_to_tweet</th>\n",
       "      <th>tweet_description</th>\n",
       "      <th>count_seen</th>\n",
       "      <th>link_prof_image</th>\n",
       "    </tr>\n",
       "  </thead>\n",
       "  <tbody>\n",
       "    <tr>\n",
       "      <th>0</th>\n",
       "      <td>At the half, #1 Georgia beating up on Creampuf...</td>\n",
       "      <td>2021-11-20 18:46:57+00:00</td>\n",
       "      <td>Miguel</td>\n",
       "      <td>So Cal</td>\n",
       "      <td>NaN</td>\n",
       "      <td>NaN</td>\n",
       "      <td>1234</td>\n",
       "      <td>https://pbs.twimg.com/profile_images/513916466...</td>\n",
       "    </tr>\n",
       "    <tr>\n",
       "      <th>1</th>\n",
       "      <td>RT @DraftDiamonds: 2022 NFL Draft Prospect Int...</td>\n",
       "      <td>2021-11-20 18:44:17+00:00</td>\n",
       "      <td>Xander⚡️</td>\n",
       "      <td>Georgia, USA</td>\n",
       "      <td>NaN</td>\n",
       "      <td>MCHS ‘20</td>\n",
       "      <td>1531</td>\n",
       "      <td>https://pbs.twimg.com/profile_images/137117103...</td>\n",
       "    </tr>\n",
       "  </tbody>\n",
       "</table>\n",
       "</div>"
      ],
      "text/plain": [
       "                                          Tweet_Text  \\\n",
       "0  At the half, #1 Georgia beating up on Creampuf...   \n",
       "1  RT @DraftDiamonds: 2022 NFL Draft Prospect Int...   \n",
       "\n",
       "                  Tweet_Date User_name      Location Link_to_tweet  \\\n",
       "0  2021-11-20 18:46:57+00:00    Miguel        So Cal           NaN   \n",
       "1  2021-11-20 18:44:17+00:00  Xander⚡️  Georgia, USA           NaN   \n",
       "\n",
       "  tweet_description  count_seen  \\\n",
       "0               NaN        1234   \n",
       "1          MCHS ‘20        1531   \n",
       "\n",
       "                                     link_prof_image  \n",
       "0  https://pbs.twimg.com/profile_images/513916466...  \n",
       "1  https://pbs.twimg.com/profile_images/137117103...  "
      ]
     },
     "execution_count": 7,
     "metadata": {},
     "output_type": "execute_result"
    }
   ],
   "source": [
    "#Reading tweets from downloads\n",
    "#We see that the imported data frame have 8 columns and each displaying specific tweet information\n",
    "\n",
    "df = pd.read_csv('C:/Users/Ifeanyi Uzowuru/Downloads/sentiment11.csv')\n",
    "df.head(2)"
   ]
  },
  {
   "cell_type": "markdown",
   "metadata": {},
   "source": [
    "# DATA EXPLORATION"
   ]
  },
  {
   "cell_type": "code",
   "execution_count": 8,
   "metadata": {},
   "outputs": [
    {
     "name": "stdout",
     "output_type": "stream",
     "text": [
      "<class 'pandas.core.frame.DataFrame'>\n",
      "RangeIndex: 8965 entries, 0 to 8964\n",
      "Data columns (total 8 columns):\n",
      " #   Column             Non-Null Count  Dtype \n",
      "---  ------             --------------  ----- \n",
      " 0   Tweet_Text         8965 non-null   object\n",
      " 1   Tweet_Date         8965 non-null   object\n",
      " 2   User_name          8962 non-null   object\n",
      " 3   Location           5429 non-null   object\n",
      " 4   Link_to_tweet      3097 non-null   object\n",
      " 5   tweet_description  8428 non-null   object\n",
      " 6   count_seen         8965 non-null   int64 \n",
      " 7   link_prof_image    8965 non-null   object\n",
      "dtypes: int64(1), object(7)\n",
      "memory usage: 560.4+ KB\n"
     ]
    }
   ],
   "source": [
    "df.info()\n",
    "## The most neccessary column (Tweet_Text) and some other vital columns have no missing data which sounds great."
   ]
  },
  {
   "cell_type": "markdown",
   "metadata": {},
   "source": [
    "# INITIAL CLASSIFICATION OF TWEET TO SENTIMENT#"
   ]
  },
  {
   "cell_type": "code",
   "execution_count": 11,
   "metadata": {},
   "outputs": [
    {
     "data": {
      "text/html": [
       "<div>\n",
       "<style scoped>\n",
       "    .dataframe tbody tr th:only-of-type {\n",
       "        vertical-align: middle;\n",
       "    }\n",
       "\n",
       "    .dataframe tbody tr th {\n",
       "        vertical-align: top;\n",
       "    }\n",
       "\n",
       "    .dataframe thead th {\n",
       "        text-align: right;\n",
       "    }\n",
       "</style>\n",
       "<table border=\"1\" class=\"dataframe\">\n",
       "  <thead>\n",
       "    <tr style=\"text-align: right;\">\n",
       "      <th></th>\n",
       "      <th>Tweet_Text</th>\n",
       "      <th>Tweet_Date</th>\n",
       "      <th>User_name</th>\n",
       "      <th>Location</th>\n",
       "      <th>Link_to_tweet</th>\n",
       "      <th>tweet_description</th>\n",
       "      <th>count_seen</th>\n",
       "      <th>link_prof_image</th>\n",
       "      <th>Subjectivity</th>\n",
       "      <th>Polarity</th>\n",
       "      <th>Analysis</th>\n",
       "      <th>Sentiment</th>\n",
       "    </tr>\n",
       "  </thead>\n",
       "  <tbody>\n",
       "    <tr>\n",
       "      <th>0</th>\n",
       "      <td>At the half, #1 Georgia beating up on Creampuf...</td>\n",
       "      <td>2021-11-20 18:46:57+00:00</td>\n",
       "      <td>Miguel</td>\n",
       "      <td>So Cal</td>\n",
       "      <td>NaN</td>\n",
       "      <td>NaN</td>\n",
       "      <td>1234</td>\n",
       "      <td>https://pbs.twimg.com/profile_images/513916466...</td>\n",
       "      <td>0.166667</td>\n",
       "      <td>-0.208333</td>\n",
       "      <td>-1</td>\n",
       "      <td>-1</td>\n",
       "    </tr>\n",
       "    <tr>\n",
       "      <th>1</th>\n",
       "      <td>RT @DraftDiamonds: 2022 NFL Draft Prospect Int...</td>\n",
       "      <td>2021-11-20 18:44:17+00:00</td>\n",
       "      <td>Xander⚡️</td>\n",
       "      <td>Georgia, USA</td>\n",
       "      <td>NaN</td>\n",
       "      <td>MCHS ‘20</td>\n",
       "      <td>1531</td>\n",
       "      <td>https://pbs.twimg.com/profile_images/137117103...</td>\n",
       "      <td>0.000000</td>\n",
       "      <td>0.000000</td>\n",
       "      <td>0</td>\n",
       "      <td>0</td>\n",
       "    </tr>\n",
       "  </tbody>\n",
       "</table>\n",
       "</div>"
      ],
      "text/plain": [
       "                                          Tweet_Text  \\\n",
       "0  At the half, #1 Georgia beating up on Creampuf...   \n",
       "1  RT @DraftDiamonds: 2022 NFL Draft Prospect Int...   \n",
       "\n",
       "                  Tweet_Date User_name      Location Link_to_tweet  \\\n",
       "0  2021-11-20 18:46:57+00:00    Miguel        So Cal           NaN   \n",
       "1  2021-11-20 18:44:17+00:00  Xander⚡️  Georgia, USA           NaN   \n",
       "\n",
       "  tweet_description  count_seen  \\\n",
       "0               NaN        1234   \n",
       "1          MCHS ‘20        1531   \n",
       "\n",
       "                                     link_prof_image  Subjectivity  Polarity  \\\n",
       "0  https://pbs.twimg.com/profile_images/513916466...      0.166667 -0.208333   \n",
       "1  https://pbs.twimg.com/profile_images/137117103...      0.000000  0.000000   \n",
       "\n",
       "  Analysis Sentiment  \n",
       "0       -1        -1  \n",
       "1        0         0  "
      ]
     },
     "execution_count": 11,
     "metadata": {},
     "output_type": "execute_result"
    }
   ],
   "source": [
    "def getSubjectivity(text):\n",
    "    return TextBlob(text).sentiment.subjectivity\n",
    "\n",
    "#Create a function to get the polarity\n",
    "def getPolarity(text):\n",
    "    return TextBlob(text).sentiment.polarity\n",
    "\n",
    "#create two new columns\n",
    "df['Subjectivity'] = df['Tweet_Text'].apply(getSubjectivity)\n",
    "df['Polarity'] = df['Tweet_Text'].apply(getPolarity)\n",
    "\n",
    "\n",
    "\n",
    "\n",
    "#Creating a function to compute the negative, neutral and positive analysis\n",
    "def Analysis(sent):\n",
    "    if sent < 0:\n",
    "        return '-1'\n",
    "    elif sent == 0:\n",
    "        return '0'\n",
    "    else:\n",
    "        return '1'\n",
    "\n",
    "df['Sentiment'] = df['Polarity'].apply(Analysis)\n",
    "df.head(2)\n"
   ]
  },
  {
   "cell_type": "code",
   "execution_count": 12,
   "metadata": {},
   "outputs": [
    {
     "data": {
      "text/html": [
       "<div>\n",
       "<style scoped>\n",
       "    .dataframe tbody tr th:only-of-type {\n",
       "        vertical-align: middle;\n",
       "    }\n",
       "\n",
       "    .dataframe tbody tr th {\n",
       "        vertical-align: top;\n",
       "    }\n",
       "\n",
       "    .dataframe thead th {\n",
       "        text-align: right;\n",
       "    }\n",
       "</style>\n",
       "<table border=\"1\" class=\"dataframe\">\n",
       "  <thead>\n",
       "    <tr style=\"text-align: right;\">\n",
       "      <th></th>\n",
       "      <th>Tweet_Text</th>\n",
       "      <th>Sentiment</th>\n",
       "    </tr>\n",
       "  </thead>\n",
       "  <tbody>\n",
       "    <tr>\n",
       "      <th>0</th>\n",
       "      <td>At the half, #1 Georgia beating up on Creampuf...</td>\n",
       "      <td>-1</td>\n",
       "    </tr>\n",
       "    <tr>\n",
       "      <th>1</th>\n",
       "      <td>RT @DraftDiamonds: 2022 NFL Draft Prospect Int...</td>\n",
       "      <td>0</td>\n",
       "    </tr>\n",
       "    <tr>\n",
       "      <th>2</th>\n",
       "      <td>First play off game of the season for out West...</td>\n",
       "      <td>-1</td>\n",
       "    </tr>\n",
       "    <tr>\n",
       "      <th>3</th>\n",
       "      <td>RT @RegWatchCanada: TAXED TO DEATH | Biden Vap...</td>\n",
       "      <td>0</td>\n",
       "    </tr>\n",
       "    <tr>\n",
       "      <th>4</th>\n",
       "      <td>RT @gpbnews: #ICYMI: Currently, 40 Black women...</td>\n",
       "      <td>-1</td>\n",
       "    </tr>\n",
       "    <tr>\n",
       "      <th>...</th>\n",
       "      <td>...</td>\n",
       "      <td>...</td>\n",
       "    </tr>\n",
       "    <tr>\n",
       "      <th>8960</th>\n",
       "      <td>RT @NazmiyeHatun_: @_Ebru_yildirim_ @erdemnevi...</td>\n",
       "      <td>0</td>\n",
       "    </tr>\n",
       "    <tr>\n",
       "      <th>8961</th>\n",
       "      <td>На кафедре ботаники и физиологии растений биол...</td>\n",
       "      <td>0</td>\n",
       "    </tr>\n",
       "    <tr>\n",
       "      <th>8962</th>\n",
       "      <td>RT @HBCUSports: The long-term GSU baseball coa...</td>\n",
       "      <td>0</td>\n",
       "    </tr>\n",
       "    <tr>\n",
       "      <th>8963</th>\n",
       "      <td>RT @PHIAMAX: If today's chaos' was in ELDORET ...</td>\n",
       "      <td>0</td>\n",
       "    </tr>\n",
       "    <tr>\n",
       "      <th>8964</th>\n",
       "      <td>@derin_gsu @__Eliz__2023__ @TurgayGrgn6 🤗🇹🇷🌹</td>\n",
       "      <td>0</td>\n",
       "    </tr>\n",
       "  </tbody>\n",
       "</table>\n",
       "<p>8965 rows × 2 columns</p>\n",
       "</div>"
      ],
      "text/plain": [
       "                                             Tweet_Text Sentiment\n",
       "0     At the half, #1 Georgia beating up on Creampuf...        -1\n",
       "1     RT @DraftDiamonds: 2022 NFL Draft Prospect Int...         0\n",
       "2     First play off game of the season for out West...        -1\n",
       "3     RT @RegWatchCanada: TAXED TO DEATH | Biden Vap...         0\n",
       "4     RT @gpbnews: #ICYMI: Currently, 40 Black women...        -1\n",
       "...                                                 ...       ...\n",
       "8960  RT @NazmiyeHatun_: @_Ebru_yildirim_ @erdemnevi...         0\n",
       "8961  На кафедре ботаники и физиологии растений биол...         0\n",
       "8962  RT @HBCUSports: The long-term GSU baseball coa...         0\n",
       "8963  RT @PHIAMAX: If today's chaos' was in ELDORET ...         0\n",
       "8964       @derin_gsu @__Eliz__2023__ @TurgayGrgn6 🤗🇹🇷🌹         0\n",
       "\n",
       "[8965 rows x 2 columns]"
      ]
     },
     "execution_count": 12,
     "metadata": {},
     "output_type": "execute_result"
    }
   ],
   "source": [
    "#Initial classification of tweet\n",
    "df1= df[['Tweet_Text','Sentiment']]\n",
    "df1\n",
    "\n",
    "\n",
    "# Here '-1','0' and '1' represents 'negative','neutral' and 'positive' tweet.\n",
    "\n",
    "    "
   ]
  },
  {
   "cell_type": "markdown",
   "metadata": {},
   "source": [
    "# DATA CLEANING OF TWEETS "
   ]
  },
  {
   "cell_type": "code",
   "execution_count": 13,
   "metadata": {},
   "outputs": [],
   "source": [
    "#This line of code cleans (eliminate all symbol), lowers alphabet, tokenizes textual data and performs word stemming\n",
    "#4 processes done here: lowering letters, splitting (tokenization) and stemming\n",
    "corpus=[]\n",
    "\n",
    "for i in range(0, len(df1)):\n",
    "  review = re.sub('[^a-zA-Z]', ' ', df1['Tweet_Text'][i])\n",
    "  review = review.lower()\n",
    "  review = review.split()\n",
    "  review = [ps.stem(word) for word in review if not word in set(all_stopwords)]\n",
    "  review = ' '.join(review)\n",
    "  corpus.append(review)"
   ]
  },
  {
   "cell_type": "code",
   "execution_count": 14,
   "metadata": {},
   "outputs": [
    {
     "name": "stderr",
     "output_type": "stream",
     "text": [
      "<ipython-input-14-7d661dd53e38>:2: SettingWithCopyWarning: \n",
      "A value is trying to be set on a copy of a slice from a DataFrame.\n",
      "Try using .loc[row_indexer,col_indexer] = value instead\n",
      "\n",
      "See the caveats in the documentation: https://pandas.pydata.org/pandas-docs/stable/user_guide/indexing.html#returning-a-view-versus-a-copy\n",
      "  df1['Tweet_Text']=corpus\n"
     ]
    },
    {
     "data": {
      "text/html": [
       "<div>\n",
       "<style scoped>\n",
       "    .dataframe tbody tr th:only-of-type {\n",
       "        vertical-align: middle;\n",
       "    }\n",
       "\n",
       "    .dataframe tbody tr th {\n",
       "        vertical-align: top;\n",
       "    }\n",
       "\n",
       "    .dataframe thead th {\n",
       "        text-align: right;\n",
       "    }\n",
       "</style>\n",
       "<table border=\"1\" class=\"dataframe\">\n",
       "  <thead>\n",
       "    <tr style=\"text-align: right;\">\n",
       "      <th></th>\n",
       "      <th>Tweet_Text</th>\n",
       "      <th>Sentiment</th>\n",
       "    </tr>\n",
       "  </thead>\n",
       "  <tbody>\n",
       "    <tr>\n",
       "      <th>0</th>\n",
       "      <td>half georgia beat creampuff state univers</td>\n",
       "      <td>-1</td>\n",
       "    </tr>\n",
       "    <tr>\n",
       "      <th>1</th>\n",
       "      <td>rt draftdiamond nfl draft prospect interview t...</td>\n",
       "      <td>0</td>\n",
       "    </tr>\n",
       "    <tr>\n",
       "      <th>2</th>\n",
       "      <td>first play game season west georgia wolv broug...</td>\n",
       "      <td>-1</td>\n",
       "    </tr>\n",
       "    <tr>\n",
       "      <th>3</th>\n",
       "      <td>rt regwatchcanada tax death biden vape tax pus...</td>\n",
       "      <td>0</td>\n",
       "    </tr>\n",
       "    <tr>\n",
       "      <th>4</th>\n",
       "      <td>rt gpbnew icymi current black women member geo...</td>\n",
       "      <td>-1</td>\n",
       "    </tr>\n",
       "    <tr>\n",
       "      <th>...</th>\n",
       "      <td>...</td>\n",
       "      <td>...</td>\n",
       "    </tr>\n",
       "    <tr>\n",
       "      <th>8960</th>\n",
       "      <td>rt nazmiyehatun ebru yildirim erdemnevin sevda...</td>\n",
       "      <td>0</td>\n",
       "    </tr>\n",
       "    <tr>\n",
       "      <th>8961</th>\n",
       "      <td>http co nj pxezjrl</td>\n",
       "      <td>0</td>\n",
       "    </tr>\n",
       "    <tr>\n",
       "      <th>8962</th>\n",
       "      <td>rt hbcusport long term gsu basebal coach move ...</td>\n",
       "      <td>0</td>\n",
       "    </tr>\n",
       "    <tr>\n",
       "      <th>8963</th>\n",
       "      <td>rt phiamax today chao eldoret fredmatiangi cou...</td>\n",
       "      <td>0</td>\n",
       "    </tr>\n",
       "    <tr>\n",
       "      <th>8964</th>\n",
       "      <td>derin gsu eliz turgaygrgn</td>\n",
       "      <td>0</td>\n",
       "    </tr>\n",
       "  </tbody>\n",
       "</table>\n",
       "<p>8965 rows × 2 columns</p>\n",
       "</div>"
      ],
      "text/plain": [
       "                                             Tweet_Text Sentiment\n",
       "0             half georgia beat creampuff state univers        -1\n",
       "1     rt draftdiamond nfl draft prospect interview t...         0\n",
       "2     first play game season west georgia wolv broug...        -1\n",
       "3     rt regwatchcanada tax death biden vape tax pus...         0\n",
       "4     rt gpbnew icymi current black women member geo...        -1\n",
       "...                                                 ...       ...\n",
       "8960  rt nazmiyehatun ebru yildirim erdemnevin sevda...         0\n",
       "8961                                 http co nj pxezjrl         0\n",
       "8962  rt hbcusport long term gsu basebal coach move ...         0\n",
       "8963  rt phiamax today chao eldoret fredmatiangi cou...         0\n",
       "8964                          derin gsu eliz turgaygrgn         0\n",
       "\n",
       "[8965 rows x 2 columns]"
      ]
     },
     "execution_count": 14,
     "metadata": {},
     "output_type": "execute_result"
    }
   ],
   "source": [
    "# Here, we select the two columns we will use for data transformation and machine learning and store it in df1\n",
    "df1['Tweet_Text']=corpus\n",
    "df1"
   ]
  },
  {
   "cell_type": "code",
   "execution_count": 15,
   "metadata": {},
   "outputs": [
    {
     "data": {
      "text/plain": [
       "Tweet_Text    0\n",
       "Sentiment     0\n",
       "dtype: int64"
      ]
     },
     "execution_count": 15,
     "metadata": {},
     "output_type": "execute_result"
    }
   ],
   "source": [
    "##Checking for null values in df1\n",
    "#Checking if there are missing values\n",
    "df1[df1['Tweet_Text'].isna()].count()\n",
    "#No missing value\n",
    "#Count of df1 is 8965\n"
   ]
  },
  {
   "cell_type": "markdown",
   "metadata": {},
   "source": [
    "# EXPLORING THE DISTRIBUTION OF TWEETS"
   ]
  },
  {
   "cell_type": "code",
   "execution_count": 17,
   "metadata": {},
   "outputs": [
    {
     "data": {
      "text/plain": [
       "0     58.884551\n",
       "1     31.868377\n",
       "-1     9.247072\n",
       "Name: Sentiment, dtype: float64"
      ]
     },
     "execution_count": 17,
     "metadata": {},
     "output_type": "execute_result"
    },
    {
     "data": {
      "image/png": "[encoded data removed]",
      "text/plain": [
       "<Figure size 576x504 with 1 Axes>"
      ]
     },
     "metadata": {},
     "output_type": "display_data"
    }
   ],
   "source": [
    "#Checking for the distribution of Sentiment\n",
    "x=[0,1,-1]\n",
    "n=df1['Sentiment'].value_counts()/len(df1)*100\n",
    "sns.barplot(x=x,y=n,data=df1)\n",
    "plt.title('DISTRIBUTION OF SENTIMENT')\n",
    "# Set x-axis label\n",
    "plt.xlabel('SENTIMENT')\n",
    "# Set y-axis label\n",
    "plt.ylabel('PROPORTION')\n",
    "df1['Sentiment'].value_counts()/len(df1)*100\n",
    "\n",
    "# We notice that distribution of sentiments is clearly imbalanced and can result to biase, One way to make the distribution\n",
    "# a bit balanced is to employ the 'Augumentation technique' especially to the negative sentiment  "
   ]
  },
  {
   "cell_type": "code",
   "execution_count": 22,
   "metadata": {},
   "outputs": [],
   "source": [
    "#Applying the Augmentation technique to populate the negative tweets as its quite insignificant\n",
    "#create an empty dataframe to store augmented text\n",
    "augmented = pd.DataFrame()\n",
    "#append augmented text to the empty dataframe and set condition such that the distribution of negative tweet gets up to 22%\n",
    "t=Wordnet()\n",
    "neg = df1.loc[df1['Sentiment'] == '-1',]['Sentiment']\n",
    "for i in neg.index:\n",
    "    if df1['Sentiment'].value_counts()[-1]/len(df1)*100 <22:\n",
    "        text_aug = t.augment(str(df1['Tweet_Text'][i]))\n",
    "        augmented = augmented.append({'Tweet_Text':text_aug ,'Sentiment': df1['Sentiment'][i]} , ignore_index=True)\n",
    "#append augmented to df1\n",
    "        df1 = df1.append(augmented)"
   ]
  },
  {
   "cell_type": "code",
   "execution_count": 23,
   "metadata": {},
   "outputs": [
    {
     "data": {
      "text/plain": [
       "0     50.516746\n",
       "1     27.339713\n",
       "-1    22.143541\n",
       "Name: Sentiment, dtype: float64"
      ]
     },
     "execution_count": 23,
     "metadata": {},
     "output_type": "execute_result"
    },
    {
     "data": {
      "image/png": "[encoded data removed]",
      "text/plain": [
       "<Figure size 576x504 with 1 Axes>"
      ]
     },
     "metadata": {},
     "output_type": "display_data"
    }
   ],
   "source": [
    "#Checking new status of distribution of Sentiment\n",
    "x=[0,1,-1]\n",
    "n=df1['Sentiment'].value_counts()/len(df1)*100\n",
    "sns.barplot(x=x,y=n,data=df1)\n",
    "plt.title('DISTRIBUTION OF SENTIMENT')\n",
    "# Set x-axis label\n",
    "plt.xlabel('SENTIMENT')\n",
    "# Set y-axis label\n",
    "plt.ylabel('PROPORTION')\n",
    "df1['Sentiment'].value_counts()/len(df1)*100\n",
    "#The distribution is now balanced"
   ]
  },
  {
   "cell_type": "code",
   "execution_count": 24,
   "metadata": {},
   "outputs": [
    {
     "data": {
      "text/plain": [
       "10450"
      ]
     },
     "execution_count": 24,
     "metadata": {},
     "output_type": "execute_result"
    }
   ],
   "source": [
    "#Also notice that the count of df1 has increased due to the augmentation of negative tweet (from 8965 to 10505)\n",
    "len(df1)"
   ]
  },
  {
   "cell_type": "markdown",
   "metadata": {},
   "source": [
    "# TEXTUAL TRANSFORMATION INTO VECTOR USING TF-IDF"
   ]
  },
  {
   "cell_type": "code",
   "execution_count": 25,
   "metadata": {},
   "outputs": [],
   "source": [
    "#Define the TF-IDF Vectorizer\n",
    "from sklearn.feature_extraction.text import TfidfVectorizer\n",
    "vectorizer = TfidfVectorizer()  \n"
   ]
  },
  {
   "cell_type": "code",
   "execution_count": 26,
   "metadata": {},
   "outputs": [],
   "source": [
    "# Define dependent (y) and independent variable(x)\n",
    "# Transform independent variable to vector form using defined vectorizer\n",
    "x=vectorizer.fit_transform(df1['Tweet_Text']).toarray()\n",
    "y=df1['Sentiment']"
   ]
  },
  {
   "cell_type": "markdown",
   "metadata": {},
   "source": [
    "# MACHINE LEARNING PROPER "
   ]
  },
  {
   "cell_type": "markdown",
   "metadata": {},
   "source": [
    "# SPLITTING  X,Y  INTO TEST AND TRAIN USING STRATIFIED SAMPLING"
   ]
  },
  {
   "cell_type": "code",
   "execution_count": 27,
   "metadata": {},
   "outputs": [],
   "source": [
    "\n",
    "#Splitting x,y into train and test and in ratio 80:20 \n",
    "#We use stratified sampling so that the split follows the population distribution\n",
    "from sklearn.model_selection import StratifiedShuffleSplit\n",
    "split = StratifiedShuffleSplit(n_splits=1, test_size=0.2, random_state=123)\n",
    "for train_index, test_index in split.split(x,y):\n",
    "    x_train= x[train_index]\n",
    "    x_test= x[test_index]\n",
    "    y_train= y.iloc[train_index]\n",
    "    y_test=y.iloc[test_index]\n",
    "    "
   ]
  },
  {
   "cell_type": "code",
   "execution_count": 28,
   "metadata": {},
   "outputs": [
    {
     "data": {
      "text/plain": [
       "0     50.514354\n",
       "1     27.344498\n",
       "-1    22.141148\n",
       "Name: Sentiment, dtype: float64"
      ]
     },
     "execution_count": 28,
     "metadata": {},
     "output_type": "execute_result"
    },
    {
     "data": {
      "image/png": "[encoded data removed]",
      "text/plain": [
       "<Figure size 576x504 with 1 Axes>"
      ]
     },
     "metadata": {},
     "output_type": "display_data"
    }
   ],
   "source": [
    "#Checking if distribution in train data set is same with that of its population\n",
    "x1=[0,1,-1]\n",
    "n=y_train.value_counts()/len(y_train)*100\n",
    "sns.barplot(x=x1,y=n,data=df1)\n",
    "plt.title('DISTRIBUTION OF SENTIMENT OF TRAIN DATA SET')\n",
    "# Set x-axis label\n",
    "plt.xlabel('SENTIMENT')\n",
    "# Set y-axis label\n",
    "plt.ylabel('PROPORTION')\n",
    "y_train.value_counts()/len(y_train)*100\n",
    "\n",
    "#perfect, It maintained same distribution"
   ]
  },
  {
   "cell_type": "markdown",
   "metadata": {},
   "source": [
    "# ALGORITHM APPLICATION\n",
    "\n",
    "Here, we applied three algorithm namely:\n",
    "1. Multinomial Logistics Regression\n",
    "2. Multinomial Naive Bayes\n",
    "3. Decision tree"
   ]
  },
  {
   "cell_type": "markdown",
   "metadata": {},
   "source": [
    "# MULTINOMIAL LOGISTICS REGRESSION"
   ]
  },
  {
   "cell_type": "code",
   "execution_count": 29,
   "metadata": {},
   "outputs": [
    {
     "name": "stderr",
     "output_type": "stream",
     "text": [
      "C:\\Users\\Ifeanyi Uzowuru\\anaconda3\\lib\\site-packages\\sklearn\\linear_model\\_logistic.py:762: ConvergenceWarning: lbfgs failed to converge (status=1):\n",
      "STOP: TOTAL NO. of ITERATIONS REACHED LIMIT.\n",
      "\n",
      "Increase the number of iterations (max_iter) or scale the data as shown in:\n",
      "    https://scikit-learn.org/stable/modules/preprocessing.html\n",
      "Please also refer to the documentation for alternative solver options:\n",
      "    https://scikit-learn.org/stable/modules/linear_model.html#logistic-regression\n",
      "  n_iter_i = _check_optimize_result(\n"
     ]
    },
    {
     "data": {
      "text/plain": [
       "array([[ 384,   57,   22],\n",
       "       [   7, 1029,   20],\n",
       "       [   6,   81,  484]], dtype=int64)"
      ]
     },
     "execution_count": 29,
     "metadata": {},
     "output_type": "execute_result"
    }
   ],
   "source": [
    "#APPLYING MULTINOMIAL LOGISTIC REGRESSION\n",
    "from sklearn.linear_model import LogisticRegression\n",
    "softmax_reg = LogisticRegression(multi_class=\"multinomial\",solver=\"lbfgs\", C=10)\n",
    "softmax_reg.fit(x_train, y_train)\n",
    "logistics_pred=softmax_reg.predict(x_test)\n",
    "from sklearn import metrics\n",
    "cnf_matrix_logistics = metrics.confusion_matrix(y_test,logistics_pred)\n",
    "cnf_matrix_logistics"
   ]
  },
  {
   "cell_type": "code",
   "execution_count": 30,
   "metadata": {},
   "outputs": [
    {
     "data": {
      "text/plain": [
       "Text(0.5, 447.52, 'Predicted label')"
      ]
     },
     "execution_count": 30,
     "metadata": {},
     "output_type": "execute_result"
    },
    {
     "data": {
      "image/png": "[encoded data removed]",
      "text/plain": [
       "<Figure size 576x504 with 2 Axes>"
      ]
     },
     "metadata": {},
     "output_type": "display_data"
    }
   ],
   "source": [
    "#CONFUSION MATRIX FOR MULTINOMIAL LOGISTIC REGRESSION\n",
    "class_names=[0,1] # name  of classes\n",
    "fig, ax = plt.subplots()\n",
    "tick_marks = np.arange(len(class_names))\n",
    "plt.xticks(tick_marks, class_names)\n",
    "plt.yticks(tick_marks, class_names)\n",
    "# create heatmap\n",
    "sns.heatmap(pd.DataFrame(cnf_matrix_logistics), annot=True, cmap=\"YlGnBu\" ,fmt='g')\n",
    "ax.xaxis.set_label_position(\"top\")\n",
    "plt.tight_layout()\n",
    "plt.title('CONFUSION MATRIX MULTINOMIAL LOGISTICS REGRESSION', y=1.1)\n",
    "plt.ylabel('Actual label')\n",
    "plt.xlabel('Predicted label')\n",
    "#We see that the Multinomial Logistic Regression classified\n",
    "\n"
   ]
  },
  {
   "cell_type": "code",
   "execution_count": 31,
   "metadata": {},
   "outputs": [
    {
     "name": "stdout",
     "output_type": "stream",
     "text": [
      "              precision    recall  f1-score   support\n",
      "\n",
      "          -1       0.97      0.83      0.89       463\n",
      "           0       0.88      0.97      0.93      1056\n",
      "           1       0.92      0.85      0.88       571\n",
      "\n",
      "    accuracy                           0.91      2090\n",
      "   macro avg       0.92      0.88      0.90      2090\n",
      "weighted avg       0.91      0.91      0.91      2090\n",
      "\n"
     ]
    }
   ],
   "source": [
    "#Evaluation scores for Multinomial Logistics Regression\n",
    "from sklearn.metrics import classification_report\n",
    "print(classification_report(y_test,logistics_pred))"
   ]
  },
  {
   "cell_type": "markdown",
   "metadata": {},
   "source": [
    "# MULTINOMIAL NAIVE BAYES ALGORITHM"
   ]
  },
  {
   "cell_type": "code",
   "execution_count": 32,
   "metadata": {},
   "outputs": [
    {
     "data": {
      "text/plain": [
       "array([[348,  82,  33],\n",
       "       [ 27, 963,  66],\n",
       "       [ 10, 110, 451]], dtype=int64)"
      ]
     },
     "execution_count": 32,
     "metadata": {},
     "output_type": "execute_result"
    }
   ],
   "source": [
    "#APPLYING MULTINOMIAL NAIVE BAYES ALGORITHM\n",
    "\n",
    "from sklearn.naive_bayes import MultinomialNB\n",
    "NB_classifier = MultinomialNB()\n",
    "NB_classifier.fit(x_train, y_train)\n",
    "naive_bayes = NB_classifier.predict(x_test)\n",
    "confma_bayes = metrics.confusion_matrix(y_test,naive_bayes)\n",
    "confma_bayes\n"
   ]
  },
  {
   "cell_type": "code",
   "execution_count": 33,
   "metadata": {},
   "outputs": [
    {
     "data": {
      "text/plain": [
       "Text(0.5, 447.52, 'Predicted label')"
      ]
     },
     "execution_count": 33,
     "metadata": {},
     "output_type": "execute_result"
    },
    {
     "data": {
      "image/png": "[encoded data removed]",
      "text/plain": [
       "<Figure size 576x504 with 2 Axes>"
      ]
     },
     "metadata": {},
     "output_type": "display_data"
    }
   ],
   "source": [
    "#CONFUSION MATRIX FOR MULTINOMIAL NAIVE BAYES\n",
    "class_names=[0,1] # name  of classes\n",
    "fig, ax = plt.subplots()\n",
    "tick_marks = np.arange(len(class_names))\n",
    "plt.xticks(tick_marks, class_names)\n",
    "plt.yticks(tick_marks, class_names)\n",
    "# create heatmap\n",
    "sns.heatmap(pd.DataFrame(confma_bayes), annot=True, cmap=\"YlGnBu\" ,fmt='g')\n",
    "ax.xaxis.set_label_position(\"top\")\n",
    "plt.tight_layout()\n",
    "plt.title('CONFUSION MATRIX MULTINOMIAL NAIVE BAYES', y=1.1)\n",
    "plt.ylabel('Actual label')\n",
    "plt.xlabel('Predicted label')\n"
   ]
  },
  {
   "cell_type": "code",
   "execution_count": 34,
   "metadata": {},
   "outputs": [
    {
     "name": "stdout",
     "output_type": "stream",
     "text": [
      "              precision    recall  f1-score   support\n",
      "\n",
      "          -1       0.90      0.75      0.82       463\n",
      "           0       0.83      0.91      0.87      1056\n",
      "           1       0.82      0.79      0.80       571\n",
      "\n",
      "    accuracy                           0.84      2090\n",
      "   macro avg       0.85      0.82      0.83      2090\n",
      "weighted avg       0.85      0.84      0.84      2090\n",
      "\n"
     ]
    }
   ],
   "source": [
    "#Evaluation scores for multinomial naive bayes\n",
    "from sklearn.metrics import classification_report\n",
    "print(classification_report(y_test, naive_bayes))"
   ]
  },
  {
   "cell_type": "markdown",
   "metadata": {},
   "source": [
    "#  RANDOM FOREST CLASSIFIER ALGORITHM #"
   ]
  },
  {
   "cell_type": "code",
   "execution_count": 35,
   "metadata": {},
   "outputs": [
    {
     "name": "stdout",
     "output_type": "stream",
     "text": [
      "Libraries Imported\n"
     ]
    }
   ],
   "source": [
    "from sklearn.ensemble import RandomForestClassifier\n",
    "from sklearn.metrics import confusion_matrix\n",
    "print('Libraries Imported')"
   ]
  },
  {
   "cell_type": "code",
   "execution_count": 36,
   "metadata": {},
   "outputs": [
    {
     "data": {
      "text/plain": [
       "array([[384,  61,  18],\n",
       "       [ 24, 992,  40],\n",
       "       [ 26, 117, 428]], dtype=int64)"
      ]
     },
     "execution_count": 36,
     "metadata": {},
     "output_type": "execute_result"
    }
   ],
   "source": [
    "classifier = RandomForestClassifier(n_estimators = 3, criterion = 'entropy', random_state = 42)\n",
    "classifier.fit(x_train, y_train)\n",
    "rand_f = classifier.predict(x_test)\n",
    "confma_rand = metrics.confusion_matrix(y_test,rand_f)\n",
    "confma_rand"
   ]
  },
  {
   "cell_type": "code",
   "execution_count": 37,
   "metadata": {},
   "outputs": [
    {
     "data": {
      "text/plain": [
       "Text(0.5, 447.52, 'Predicted label')"
      ]
     },
     "execution_count": 37,
     "metadata": {},
     "output_type": "execute_result"
    },
    {
     "data": {
      "image/png": "[encoded data removed]",
      "text/plain": [
       "<Figure size 576x504 with 2 Axes>"
      ]
     },
     "metadata": {},
     "output_type": "display_data"
    }
   ],
   "source": [
    "#CONFUSION MATRIX FOR RANDOM FOREST\n",
    "class_names=[0,1] # name  of classes\n",
    "fig, ax = plt.subplots()\n",
    "tick_marks = np.arange(len(class_names))\n",
    "plt.xticks(tick_marks, class_names)\n",
    "plt.yticks(tick_marks, class_names)\n",
    "# create heatmap\n",
    "sns.heatmap(pd.DataFrame(confma_rand), annot=True, cmap=\"YlGnBu\" ,fmt='g')\n",
    "ax.xaxis.set_label_position(\"top\")\n",
    "plt.tight_layout()\n",
    "plt.title('CONFUSION MATRIX MULTINOMIAL NAIVE BAYES', y=1.1)\n",
    "plt.ylabel('Actual label')\n",
    "plt.xlabel('Predicted label')\n"
   ]
  },
  {
   "cell_type": "code",
   "execution_count": 38,
   "metadata": {},
   "outputs": [
    {
     "name": "stdout",
     "output_type": "stream",
     "text": [
      "              precision    recall  f1-score   support\n",
      "\n",
      "          -1       0.88      0.83      0.86       463\n",
      "           0       0.85      0.94      0.89      1056\n",
      "           1       0.88      0.75      0.81       571\n",
      "\n",
      "    accuracy                           0.86      2090\n",
      "   macro avg       0.87      0.84      0.85      2090\n",
      "weighted avg       0.87      0.86      0.86      2090\n",
      "\n"
     ]
    }
   ],
   "source": [
    "#Evaluation scores for random forest\n",
    "print(classification_report(y_test, rand_f))"
   ]
  },
  {
   "cell_type": "markdown",
   "metadata": {},
   "source": [
    "# CONCLUSION"
   ]
  },
  {
   "cell_type": "code",
   "execution_count": 39,
   "metadata": {},
   "outputs": [],
   "source": [
    "#It might be a difficult task to choose which algorithm we would end up with, however lets not deviate away from the \n",
    "# goal of the project, which is to get a first hand information about negative tweets of Georgia state university before\n",
    "#it goes viral and lead to Institutional reputation damage, this implies we should be much more concerned about the accurate\n",
    "#classification of negative tweets which includes true negatives and false positives that are actually negative and\n",
    "#false neutralthat are actually negative\n",
    "\n",
    "# Multinomial logistics Regression: precision,recall,f1 = [0.97 ,0.83, 0.89] for 466 negatives\n",
    "# Multinomial Naive Bayes: precision,recall,f1 = [0.90 ,0.75, 0.82] for 466 negatives\n",
    "# Random forest: precision,recall,f1 = [0.88,0.83,0.86] for 466 negatives\n",
    "\n",
    "# In terms of negative prediction, Multinomial logistics Regression performed the best in classifying correctly negative\n",
    "# tweets and in its precision power, which is why it has the best f1 score and we thereby confirm the algorithm as our\n",
    "# model of choice."
   ]
  },
  {
   "cell_type": "code",
   "execution_count": null,
   "metadata": {},
   "outputs": [],
   "source": []
  }
 ],
 "metadata": {
  "kernelspec": {
   "display_name": "Python 3",
   "language": "python",
   "name": "python3"
  },
  "language_info": {
   "codemirror_mode": {
    "name": "ipython",
    "version": 3
   },
   "file_extension": ".py",
   "mimetype": "text/x-python",
   "name": "python",
   "nbconvert_exporter": "python",
   "pygments_lexer": "ipython3",
   "version": "3.8.3"
  }
 },
 "nbformat": 4,
 "nbformat_minor": 5
}
